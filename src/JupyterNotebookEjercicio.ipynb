{
 "cells": [
  {
   "cell_type": "markdown",
   "id": "a1aecbc3",
   "metadata": {},
   "source": [
    "<div align=\"left\">\n",
    "<p><img alt=\"UdeA\" height=\"150px\" src=\"https://minas.medellin.unal.edu.co/proyectos/one-health-consortium/images/unal.png\" align=\"left\" hspace=\"10px\" vspace=\"0px\"></p>\n",
    "</div>\n",
    "<div> </div>\n",
    "\n",
    "<div> </div>\n",
    "\n",
    "<br></br>\n",
    "<br></br>\n",
    "<br></br>\n",
    "<br></br>\n",
    "<p>\n",
    "<h6 align=\"center\"> <b> </b> </h6>\n",
    "<h1 align=\"center\"> <b> Concurso Profesoral 2025 de la Facultad de Minas </b> </h1>\n",
    "<h2 align=\"center\"> <b> Cátedra 0.2 --> Perfil C1_3010435 - Fundamentos de programación </b> </h2>\n",
    "<h2 align=\"center\"> <b> Código de Clase </b> </h2>\n",
    "<hr size=10 noshade color=\"gray\">\n",
    "</p>\n",
    "<p>\n",
    "<img alt=\"CC\" height=\"70px\" src=\"https://creativecommons.org/images/deed/cc_blue_x2.png\" align=\"left\" hspace=\"0px\" vspace=\"0px\">\n",
    "<img alt=\"Attribution\" height=\"70px\" src=\"https://creativecommons.org/images/deed/attribution_icon_blue_x2.png\" align=\"left\" hspace=\"0px\" vspace=\"0px\">\n",
    "<img alt=\"NC\" height=\"70px\" src=\"https://creativecommons.org/images/deed/nc_blue_x2.png\" align=\"left\" hspace=\"0px\" vspace=\"0px\">\n",
    "<img alt=\"SA\" height=\"70px\" src=\"https://creativecommons.org/images/deed/sa_blue_x2.png\" align=\"left\" hspace=\"0px\" vspace=\"0px\">\n",
    "<br></br><br></br>\n",
    "</p>\n",
    "\n",
    "\n",
    "<div align=\"right\">\n",
    "<h1> Aspirante: Julian Andres Castillo Grisales</h1>\n",
    "<h2><a href=\"mailto:jandres.castillo@udea.edu.co\">✉ Julian Andres Castillo Grisales</a></h2>\n",
    "<hr size=1 noshade color=\"black\">\n",
    "\n",
    "\n",
    "<hr size=10 noshade color=\"green\">\n",
    "\n",
    "</div>"
   ]
  },
  {
   "cell_type": "markdown",
   "id": "93e89ef4",
   "metadata": {},
   "source": [
    "# **Contenido de la clase**\n",
    "## **Condicionales --> Optimización de condicionales (Ladder & DRY)**\n",
    "### **Facultad de Minas – Departamento de Ciencias de la Computación y de la Decisión**\n",
    "\n",
    "### **Descripción del Curso**\n",
    "\n",
    "El objetivo de este curso es introducir al estudiante en las técnicas básicas de programación. Busca desarrollar en el estudiante la capacidad el análisis de problemas y su solución empleando algoritmos. Para lograr este objetivo el alumno debe adquirir una serie de conocimientos, capacidades y aptitudes que le permitan enfrentar diversas situaciones relacionadas con su carrera. \n",
    "\n",
    "### **Objetivo General**\n",
    "Desarrollar en el estudiante la capacidad de análisis necesario para abordar problemas cuya solución pueda ser alcanzada empleando algoritmos. \n",
    "\n",
    "### **Objetivos Específicos**\n",
    "1.   Comprender los fundamentos de la programación. \n",
    "2.   Entender los mecanismos de la programación estructurada. \n",
    "3.   Entender el flujo de ejecución de un programa de computador. \n",
    "4.   Analizar problemas y desarrollar su solución mediante algoritmos."
   ]
  },
  {
   "cell_type": "markdown",
   "id": "b683b2b9",
   "metadata": {},
   "source": [
    "## **Optimización de Condicionales**\n",
    "### **DRY – Decision Chain – Ladder If-Else**\n",
    "*   El principio DRY (Don't Repeat Yourself), introducido por Dave Thomas y Andy Hunt en The Pragmatic Programmer (1999), establece que cada pieza de conocimiento o lógica en un sistema debe tener una única representación clara y autorizada. Su propósito es evitar la duplicación de código, reglas de negocio o información, reduciendo inconsistencias, errores y costos de mantenimiento. \n",
    "*   Las decisiones en cascada o cadena (o decision chain, también conocida como ladder if-else simplificada) es una técnica de programación que organiza secuencias de condiciones de forma jerárquica y eficiente, usualmente de mayor a menor (o viceversa), para evitar comparaciones redundantes y mejorar la legibilidad del código."
   ]
  },
  {
   "cell_type": "markdown",
   "id": "58b940d5",
   "metadata": {},
   "source": [
    "## **Caso Hipotético 1**\n",
    "### **Mejora de espacios de trabajo**\n",
    "\n",
    "Supongamos que la Universidad Nacional desea clasificar a sus estudiantes en tres grupos [A,B,C] para comprar sillas ergonómicas de acuerdo a tres rangos de estaturas. Para esto la empresa Sillas&Sillas* tiene tres sillas académicas que sirven para los siguientes rangos de estatura.\n",
    "\n",
    "*   Silla A: Entre 1.00 m y 1.50 m\n",
    "*   Silla B: Entre 1.50 m y 1.75 m\n",
    "*   Silla C: De 1.75 m  en adelante\n",
    "\n",
    "Creemos un algoritmo usando condicionales que nos permita saber a que categoría pertenece un estudiante de la Universidad Nacional y así poderle asignar una silla acorde a su estatura.\n",
    "\n",
    "Vamos a tomar datos del público:\n",
    "<p><img alt=\"estudiantes\" height=\"500px\" src=\"https://raw.githubusercontent.com/juliancastillo-udea/ConvocatoriaDocenteUnalMed/refs/heads/main/img/EstudiantesSillas.png\" align=\"left\" hspace=\"10px\" vspace=\"0px\"></p>"
   ]
  },
  {
   "cell_type": "markdown",
   "id": "e0c03312",
   "metadata": {},
   "source": [
    "## **Propuesta de solucion**"
   ]
  },
  {
   "cell_type": "code",
   "execution_count": 1,
   "id": "238c18fe",
   "metadata": {},
   "outputs": [
    {
     "name": "stdout",
     "output_type": "stream",
     "text": [
      "Favor ingresar la estatura del estudiante en metros: \n",
      "La categoria del estudiante con estatura 1.77m es:\n",
      "\t--> C\n"
     ]
    }
   ],
   "source": [
    "# Propuesta de Solución\n",
    "print('Favor ingresar la estatura del estudiante en metros: ')\n",
    "estatura = float(input('-->'))\n",
    "if estatura > 1.0 and estatura < 1.5:\n",
    "    categoria = \"A\"\n",
    "elif estatura >= 1.5 and estatura < 1.75:\n",
    "    categoria = \"B\"\n",
    "elif estatura >= 1.75:\n",
    "    categoria = \"C\"\n",
    "else:\n",
    "    categoria = \"NA\"\n",
    "print(f'La categoria del estudiante con estatura {estatura:,.2f}m es:\\n\\t--> {categoria}')"
   ]
  },
  {
   "cell_type": "markdown",
   "id": "0756a715",
   "metadata": {},
   "source": [
    "## **Solucion usando IA**"
   ]
  },
  {
   "cell_type": "markdown",
   "id": "97646082",
   "metadata": {},
   "source": [
    "### **Chat GPT5**"
   ]
  },
  {
   "cell_type": "code",
   "execution_count": 2,
   "id": "fd51250d",
   "metadata": {},
   "outputs": [
    {
     "name": "stdout",
     "output_type": "stream",
     "text": [
      "=== CLASIFICADOR DE SILLAS ERGONÓMICAS ===\n",
      "Grupo A - Silla A: 1.00m a 1.50m\n",
      "Grupo B - Silla B: 1.50m a 1.75m\n",
      "Grupo C - Silla C: 1.75m en adelante\n",
      "---------------------------------------------\n",
      "Estatura: 1.77m\n",
      "Grupo: C\n",
      "Silla asignada: Silla C\n",
      "Rango: De 1.75m en adelante\n"
     ]
    }
   ],
   "source": [
    "# Script para clasificar estudiantes y asignar sillas ergonómicas\n",
    "# Universidad Nacional - Sillas&Sillas\n",
    "\n",
    "print(\"=== CLASIFICADOR DE SILLAS ERGONÓMICAS ===\")\n",
    "print(\"Grupo A - Silla A: 1.00m a 1.50m\")\n",
    "print(\"Grupo B - Silla B: 1.50m a 1.75m\") \n",
    "print(\"Grupo C - Silla C: 1.75m en adelante\")\n",
    "print(\"-\" * 45)\n",
    "\n",
    "# Solicitar la estatura del estudiante\n",
    "estatura = float(input(\"Ingrese la estatura del estudiante en metros: \"))\n",
    "\n",
    "# Clasificación usando condicionales\n",
    "if estatura < 1.0:\n",
    "    print(f\"Estatura {estatura}m está fuera del rango mínimo\")\n",
    "    print(\"No hay silla disponible para esta estatura\")\n",
    "\n",
    "elif estatura >= 1.0 and estatura < 1.5:\n",
    "    print(f\"Estatura: {estatura}m\")\n",
    "    print(\"Grupo: A\")\n",
    "    print(\"Silla asignada: Silla A\")\n",
    "    print(\"Rango: Entre 1.00m y 1.50m\")\n",
    "\n",
    "elif estatura >= 1.5 and estatura < 1.75:\n",
    "    print(f\"Estatura: {estatura}m\")\n",
    "    print(\"Grupo: B\") \n",
    "    print(\"Silla asignada: Silla B\")\n",
    "    print(\"Rango: Entre 1.50m y 1.75m\")\n",
    "\n",
    "else:  # estatura >= 1.75\n",
    "    print(f\"Estatura: {estatura}m\")\n",
    "    print(\"Grupo: C\")\n",
    "    print(\"Silla asignada: Silla C\")\n",
    "    print(\"Rango: De 1.75m en adelante\")"
   ]
  },
  {
   "cell_type": "markdown",
   "id": "2d8d6034",
   "metadata": {},
   "source": [
    "### **Gemini 2.0**"
   ]
  },
  {
   "cell_type": "code",
   "execution_count": 3,
   "id": "7e8c42ae",
   "metadata": {},
   "outputs": [
    {
     "name": "stdout",
     "output_type": "stream",
     "text": [
      "Al estudiante con una estatura de 1.45 m se le asigna la: Silla A\n",
      "Al estudiante con una estatura de 1.68 m se le asigna la: Silla B\n",
      "Al estudiante con una estatura de 1.8 m se le asigna la: Silla C\n",
      "Al estudiante con una estatura de 0.95 m se le asigna la: Estatura no válida\n"
     ]
    }
   ],
   "source": [
    "def asignar_silla(estatura_metros):\n",
    "  \"\"\"\n",
    "  Clasifica a un estudiante en una categoría de silla (A, B o C) según su estatura.\n",
    "\n",
    "  Args:\n",
    "    estatura_metros: La estatura del estudiante en metros.\n",
    "\n",
    "  Returns:\n",
    "    Una cadena de texto indicando la categoría de la silla asignada.\n",
    "    \"Estatura no válida\" si la estatura es menor que 1.00 m.\n",
    "  \"\"\"\n",
    "  if estatura_metros < 1.00:\n",
    "    return \"Estatura no válida\"\n",
    "  elif 1.00 <= estatura_metros < 1.50:\n",
    "    return \"Silla A\"\n",
    "  elif 1.50 <= estatura_metros < 1.75:\n",
    "    return \"Silla B\"\n",
    "  else:  # 1.75 m o más\n",
    "    return \"Silla C\"\n",
    "\n",
    "# Ejemplos de uso del algoritmo\n",
    "estudiante1 = 1.45\n",
    "estudiante2 = 1.68\n",
    "estudiante3 = 1.80\n",
    "estudiante4 = 0.95\n",
    "\n",
    "print(f\"Al estudiante con una estatura de {estudiante1} m se le asigna la: {asignar_silla(estudiante1)}\")\n",
    "print(f\"Al estudiante con una estatura de {estudiante2} m se le asigna la: {asignar_silla(estudiante2)}\")\n",
    "print(f\"Al estudiante con una estatura de {estudiante3} m se le asigna la: {asignar_silla(estudiante3)}\")\n",
    "print(f\"Al estudiante con una estatura de {estudiante4} m se le asigna la: {asignar_silla(estudiante4)}\")"
   ]
  },
  {
   "cell_type": "markdown",
   "id": "089750ed",
   "metadata": {},
   "source": [
    "### **Claude Sonnet 4.0**"
   ]
  },
  {
   "cell_type": "code",
   "execution_count": 4,
   "id": "b717c4d2",
   "metadata": {},
   "outputs": [
    {
     "name": "stdout",
     "output_type": "stream",
     "text": [
      "Categoría: C\n",
      "Asignación: Silla C (1.75 m en adelante)\n"
     ]
    }
   ],
   "source": [
    "# Programa para clasificar estudiantes y asignar silla ergonómica\n",
    "# Universidad Nacional - Empresa Sillas&Sillas\n",
    "\n",
    "# Entrada de datos\n",
    "estatura = float(input(\"Ingrese la estatura del estudiante en metros (Ej: 1.68): \"))\n",
    "\n",
    "# Clasificación según los rangos de estatura\n",
    "if 1.00 <= estatura < 1.50:\n",
    "    categoria = \"A\"\n",
    "    silla = \"Silla A (1.00 m - 1.50 m)\"\n",
    "elif 1.50 <= estatura < 1.75:\n",
    "    categoria = \"B\"\n",
    "    silla = \"Silla B (1.50 m - 1.75 m)\"\n",
    "elif estatura >= 1.75:\n",
    "    categoria = \"C\"\n",
    "    silla = \"Silla C (1.75 m en adelante)\"\n",
    "else:\n",
    "    categoria = None\n",
    "    silla = \"Estatura fuera de rango válido.\"\n",
    "\n",
    "# Salida de datos\n",
    "if categoria:\n",
    "    print(f\"Categoría: {categoria}\")\n",
    "    print(f\"Asignación: {silla}\")\n",
    "else:\n",
    "    print(\"La estatura ingresada no es válida. Debe ser mayor o igual a 1.00 m.\")"
   ]
  },
  {
   "cell_type": "markdown",
   "id": "8f27569e",
   "metadata": {},
   "source": [
    "### **Propuesta optimizada**"
   ]
  },
  {
   "cell_type": "code",
   "execution_count": 5,
   "id": "92f4f3a3",
   "metadata": {},
   "outputs": [
    {
     "name": "stdout",
     "output_type": "stream",
     "text": [
      "Favor ingresar la estatura del estudiante en metros: \n",
      "La categoria del estudiante con estatura 1.77m es:\n",
      "\t--> C\n"
     ]
    }
   ],
   "source": [
    "print('Favor ingresar la estatura del estudiante en metros: ')\n",
    "estatura = float(input('-->'))\n",
    "if estatura >=1.75:\n",
    "    categoria = \"C\"\n",
    "elif estatura >= 1.5:\n",
    "    categoria = \"B\"\n",
    "elif estatura >= 1.0:\n",
    "    categoria = \"A\"\n",
    "else:\n",
    "    categoria = \"NA\"\n",
    "print(f'La categoria del estudiante con estatura {estatura:,.2f}m es:\\n\\t--> {categoria}')"
   ]
  },
  {
   "cell_type": "markdown",
   "id": "6b1d4ebf",
   "metadata": {},
   "source": [
    "## **Caso Hipotético 2**\n",
    "### **Descuentos en Cafetería Central – El Ágora**\n",
    "\n",
    "Supongamos que la Cafetería Central desea aplicar un criterio de descuentos para incentivar la compra de productos. Para ello se definen niveles asociados a un valor de compra en donde se asigna un descuento porcentual de acuerdo a los siguientes rangos.\n",
    "\n",
    "*   Compras inferiores a 25000. Sin descuento.\n",
    "*   Compras superiores a 25000 e inferiores a 50000. Descuento del 5%.\n",
    "*   Compras superiores a 50000 e inferiores a 100000. Descuento del 10%.\n",
    "*   Compras superiores a 100000 e inferiores a 200000. Descuento del 15%.\n",
    "*   Compras superiores a 200000. Descuento del 20%\n",
    "\n",
    "Creemos un algoritmo usando condicionales anidados usando el criterio de If-Else escalonado para solucionar el presente problema. Usar f-strings aplicando formato para visualizar los resultados. Mostrar el valor inicial y el valor con descuento más un mensaje final. \n",
    "\n",
    "Reto: Crear una factura tipo impresora térmica de recibos para un papel de 80mm con un estimado de 60 caracteres por línea."
   ]
  },
  {
   "cell_type": "code",
   "execution_count": 2,
   "id": "017b7d68",
   "metadata": {},
   "outputs": [
    {
     "name": "stdout",
     "output_type": "stream",
     "text": [
      "             Bienvenido a la Cafetería Central              \n",
      "Ingresa el valor comprado: \n",
      "Comprado--> 750000\n",
      "************************************************************\n",
      "\n",
      "Subtotal--> $750,000\n",
      "Descuento--> $150,000\n",
      "Total a Pagar--> $600,000\n"
     ]
    }
   ],
   "source": [
    "print('Bienvenido a la Cafetería Central'.center(60))\n",
    "print('Ingresa el valor comprado: ')\n",
    "compra = int(input('--> '))\n",
    "print('Comprado-->', compra)\n",
    "print('*'*60 + '\\n') \n",
    "\n",
    "if compra > 200_000:\n",
    "    descuento = 0.8\n",
    "elif compra > 100_000:\n",
    "    descuento = 0.85\n",
    "elif compra > 50_000:\n",
    "    descuento = 0.90\n",
    "elif compra > 25_000:\n",
    "    descuento = 0.95\n",
    "elif compra > 0:\n",
    "    descuento = 1\n",
    "else:\n",
    "    descuento = 0\n",
    "\n",
    "subtotal = compra\n",
    "valor_descuento = compra - (compra * descuento)\n",
    "total = compra * descuento\n",
    "print(f'Subtotal--> ${subtotal:,.0f}')\n",
    "print(f'Descuento--> ${valor_descuento:,.0f}')\n",
    "print(f'Total a Pagar--> ${total:,.0f}')"
   ]
  },
  {
   "cell_type": "code",
   "execution_count": 3,
   "id": "dda69ab0",
   "metadata": {},
   "outputs": [
    {
     "name": "stdout",
     "output_type": "stream",
     "text": [
      "************************************************************\n",
      "               Bienvenido a Cafetería Central               \n",
      "                       Nit 123456789                        \n",
      "                      13/08/2025 15:59                      \n",
      "************************************************************\n",
      " Subtotal                                           $750,000\n",
      " Valor Descuento                                    $150,000\n",
      "____________________________________________________________\n",
      " Total a pagar                                      $600,000\n",
      "************************************************************\n",
      "                   Gracias por su compra                    \n",
      "************************************************************\n"
     ]
    }
   ],
   "source": [
    "# Solución Reto\n",
    "from datetime import datetime\n",
    "import pytz\n",
    "# Captura de fecha\n",
    "# Zona horaria de Bogotá\n",
    "bogota_tz = pytz.timezone('America/Bogota')\n",
    "# Fecha actual en esa zona\n",
    "fecha_bogota = datetime.now(bogota_tz)\n",
    "# Formato corto: dd/mm/aaaa o similar\n",
    "fecha_corta = fecha_bogota.strftime('%d/%m/%Y %H:%M')\n",
    "print('*'*60)\n",
    "print('Bienvenido a Cafetería Central'.center(60))\n",
    "print('Nit 123456789'.center(60))\n",
    "print(fecha_corta.center(60))\n",
    "print('*'*60)\n",
    "print(' Subtotal'.ljust(30),f'${compra:,.0f}'.rjust(30), sep='')\n",
    "print(' Valor Descuento'.ljust(30),f'${valor_descuento:,.0f}'.rjust(30), sep='')\n",
    "print('_'*60)\n",
    "print(' Total a pagar'.ljust(30),f'${total:,.0f}'.rjust(30), sep='')\n",
    "print('*'*60)\n",
    "print('Gracias por su compra'.center(60))\n",
    "print('*'*60)"
   ]
  }
 ],
 "metadata": {
  "kernelspec": {
   "display_name": "Python 3",
   "language": "python",
   "name": "python3"
  },
  "language_info": {
   "codemirror_mode": {
    "name": "ipython",
    "version": 3
   },
   "file_extension": ".py",
   "mimetype": "text/x-python",
   "name": "python",
   "nbconvert_exporter": "python",
   "pygments_lexer": "ipython3",
   "version": "3.13.1"
  }
 },
 "nbformat": 4,
 "nbformat_minor": 5
}
